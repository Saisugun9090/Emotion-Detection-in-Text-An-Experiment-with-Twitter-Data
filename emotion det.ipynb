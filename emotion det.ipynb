{
 "cells": [
  {
   "cell_type": "code",
   "execution_count": 1,
   "id": "119fff50",
   "metadata": {},
   "outputs": [],
   "source": [
    "import pandas as pd\n",
    "from sklearn.model_selection import train_test_split\n",
    "from sklearn.feature_extraction.text import CountVectorizer\n",
    "from sklearn.naive_bayes import MultinomialNB\n",
    "from sklearn.metrics import accuracy_score, classification_report, confusion_matrix"
   ]
  },
  {
   "cell_type": "code",
   "execution_count": 2,
   "id": "dcc69cb4",
   "metadata": {},
   "outputs": [],
   "source": [
    "data = pd.read_csv(\"C:/Users/SAI/OneDrive/Desktop/Data Science/my experiments/emotion/text.csv\")\n"
   ]
  },
  {
   "cell_type": "code",
   "execution_count": 3,
   "id": "b2ff697f",
   "metadata": {},
   "outputs": [
    {
     "name": "stdout",
     "output_type": "stream",
     "text": [
      "                                                text  label\n",
      "0      i just feel really helpless and heavy hearted      4\n",
      "1  ive enjoyed being able to slouch about relax a...      0\n",
      "2  i gave up my internship with the dmrg and am f...      4\n",
      "3                         i dont know i feel so lost      0\n",
      "4  i am a kindergarten teacher and i am thoroughl...      4\n"
     ]
    }
   ],
   "source": [
    "print(data.head())"
   ]
  },
  {
   "cell_type": "code",
   "execution_count": 4,
   "id": "c23bb259",
   "metadata": {},
   "outputs": [],
   "source": [
    "X = data['text']\n",
    "y = data['label']"
   ]
  },
  {
   "cell_type": "code",
   "execution_count": 5,
   "id": "2204baa5",
   "metadata": {},
   "outputs": [],
   "source": [
    "X_train, X_test, y_train, y_test = train_test_split(X, y, test_size=0.2, random_state=42)"
   ]
  },
  {
   "cell_type": "code",
   "execution_count": 6,
   "id": "75d474c9",
   "metadata": {},
   "outputs": [],
   "source": [
    "vectorizer = CountVectorizer()\n",
    "X_train_vectorized = vectorizer.fit_transform(X_train)\n",
    "X_test_vectorized = vectorizer.transform(X_test)"
   ]
  },
  {
   "cell_type": "code",
   "execution_count": 7,
   "id": "1bcc5d0f",
   "metadata": {},
   "outputs": [
    {
     "data": {
      "text/plain": [
       "MultinomialNB()"
      ]
     },
     "execution_count": 7,
     "metadata": {},
     "output_type": "execute_result"
    }
   ],
   "source": [
    "naive_bayes_model = MultinomialNB()\n",
    "naive_bayes_model.fit(X_train_vectorized, y_train)"
   ]
  },
  {
   "cell_type": "code",
   "execution_count": 8,
   "id": "8a42f7f3",
   "metadata": {},
   "outputs": [],
   "source": [
    "y_pred = naive_bayes_model.predict(X_test_vectorized)"
   ]
  },
  {
   "cell_type": "code",
   "execution_count": 9,
   "id": "2a3d012e",
   "metadata": {},
   "outputs": [],
   "source": [
    "accuracy = accuracy_score(y_test, y_pred)\n",
    "conf_matrix = confusion_matrix(y_test, y_pred)\n",
    "class_report = classification_report(y_test, y_pred)"
   ]
  },
  {
   "cell_type": "code",
   "execution_count": 10,
   "id": "dc222418",
   "metadata": {},
   "outputs": [
    {
     "name": "stdout",
     "output_type": "stream",
     "text": [
      "Accuracy: 0.86\n",
      "\n",
      "Confusion Matrix:\n",
      "[[22780   649   100   358   289    15]\n",
      " [  920 26160   749   150   163    36]\n",
      " [  357  2179  4106    67    36     3]\n",
      " [ 1004   492    53  9647   271     7]\n",
      " [  866   475    33   388  7810   108]\n",
      " [  381   871    29    47   690  1079]]\n",
      "\n",
      "Classification Report:\n",
      "              precision    recall  f1-score   support\n",
      "\n",
      "           0       0.87      0.94      0.90     24191\n",
      "           1       0.85      0.93      0.89     28178\n",
      "           2       0.81      0.61      0.69      6748\n",
      "           3       0.91      0.84      0.87     11474\n",
      "           4       0.84      0.81      0.82      9680\n",
      "           5       0.86      0.35      0.50      3097\n",
      "\n",
      "    accuracy                           0.86     83368\n",
      "   macro avg       0.86      0.75      0.78     83368\n",
      "weighted avg       0.86      0.86      0.85     83368\n",
      "\n"
     ]
    }
   ],
   "source": [
    "print(f\"Accuracy: {accuracy:.2f}\")\n",
    "print(\"\\nConfusion Matrix:\")\n",
    "print(conf_matrix)\n",
    "print(\"\\nClassification Report:\")\n",
    "print(class_report)"
   ]
  },
  {
   "cell_type": "code",
   "execution_count": 19,
   "id": "898b8021",
   "metadata": {},
   "outputs": [
    {
     "name": "stdout",
     "output_type": "stream",
     "text": [
      "Enter a text: Love All Serve All\n",
      "The predicted emotion label for the input is: 1\n"
     ]
    }
   ],
   "source": [
    "user_input = input(\"Enter a text: \")\n",
    "user_input_vectorized = vectorizer.transform([user_input])\n",
    "predicted_label = naive_bayes_model.predict(user_input_vectorized)\n",
    "print(f\"The predicted emotion label for the input is: {predicted_label[0]}\")"
   ]
  },
  {
   "cell_type": "code",
   "execution_count": 14,
   "id": "976f2ef8",
   "metadata": {},
   "outputs": [],
   "source": [
    "#sadness (0), joy (1), love (2), anger (3), fear (4), and surprise (5)"
   ]
  },
  {
   "cell_type": "code",
   "execution_count": null,
   "id": "4ee5ef5e",
   "metadata": {},
   "outputs": [],
   "source": []
  },
  {
   "cell_type": "code",
   "execution_count": null,
   "id": "5b63feec",
   "metadata": {},
   "outputs": [],
   "source": []
  }
 ],
 "metadata": {
  "kernelspec": {
   "display_name": "Python 3 (ipykernel)",
   "language": "python",
   "name": "python3"
  },
  "language_info": {
   "codemirror_mode": {
    "name": "ipython",
    "version": 3
   },
   "file_extension": ".py",
   "mimetype": "text/x-python",
   "name": "python",
   "nbconvert_exporter": "python",
   "pygments_lexer": "ipython3",
   "version": "3.9.7"
  }
 },
 "nbformat": 4,
 "nbformat_minor": 5
}
